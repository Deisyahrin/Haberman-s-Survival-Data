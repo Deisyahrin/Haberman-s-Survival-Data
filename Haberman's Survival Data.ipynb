{
  "nbformat": 4,
  "nbformat_minor": 0,
  "metadata": {
    "colab": {
      "name": "Homework1.ipynb",
      "provenance": []
    },
    "kernelspec": {
      "name": "python3",
      "display_name": "Python 3"
    },
    "language_info": {
      "name": "python"
    }
  },
  "cells": [
    {
      "cell_type": "code",
      "metadata": {
        "id": "uOBr0MvPv-qE"
      },
      "source": [
        "import pandas as pd\n",
        "import numpy as np\n",
        "url = 'https://raw.githubusercontent.com/jbrownlee/Datasets/master/haberman.csv'\n",
        "list_cols = ['Age', \"Patient's Years\", \"N_positive_ax\", \"survival_status\"]\n",
        "df = pd.read_csv(url, names=list_cols)"
      ],
      "execution_count": null,
      "outputs": []
    },
    {
      "cell_type": "code",
      "metadata": {
        "colab": {
          "base_uri": "https://localhost:8080/",
          "height": 206
        },
        "id": "ZUoKStzJwcWz",
        "outputId": "6e98cafc-fb4d-4456-b9df-6ff59ac4c801"
      },
      "source": [
        "df.head()"
      ],
      "execution_count": null,
      "outputs": [
        {
          "output_type": "execute_result",
          "data": {
            "text/html": [
              "<div>\n",
              "<style scoped>\n",
              "    .dataframe tbody tr th:only-of-type {\n",
              "        vertical-align: middle;\n",
              "    }\n",
              "\n",
              "    .dataframe tbody tr th {\n",
              "        vertical-align: top;\n",
              "    }\n",
              "\n",
              "    .dataframe thead th {\n",
              "        text-align: right;\n",
              "    }\n",
              "</style>\n",
              "<table border=\"1\" class=\"dataframe\">\n",
              "  <thead>\n",
              "    <tr style=\"text-align: right;\">\n",
              "      <th></th>\n",
              "      <th>Age</th>\n",
              "      <th>Patient's Years</th>\n",
              "      <th>N_positive_ax</th>\n",
              "      <th>survival_status</th>\n",
              "    </tr>\n",
              "  </thead>\n",
              "  <tbody>\n",
              "    <tr>\n",
              "      <th>0</th>\n",
              "      <td>30</td>\n",
              "      <td>64</td>\n",
              "      <td>1</td>\n",
              "      <td>1</td>\n",
              "    </tr>\n",
              "    <tr>\n",
              "      <th>1</th>\n",
              "      <td>30</td>\n",
              "      <td>62</td>\n",
              "      <td>3</td>\n",
              "      <td>1</td>\n",
              "    </tr>\n",
              "    <tr>\n",
              "      <th>2</th>\n",
              "      <td>30</td>\n",
              "      <td>65</td>\n",
              "      <td>0</td>\n",
              "      <td>1</td>\n",
              "    </tr>\n",
              "    <tr>\n",
              "      <th>3</th>\n",
              "      <td>31</td>\n",
              "      <td>59</td>\n",
              "      <td>2</td>\n",
              "      <td>1</td>\n",
              "    </tr>\n",
              "    <tr>\n",
              "      <th>4</th>\n",
              "      <td>31</td>\n",
              "      <td>65</td>\n",
              "      <td>4</td>\n",
              "      <td>1</td>\n",
              "    </tr>\n",
              "  </tbody>\n",
              "</table>\n",
              "</div>"
            ],
            "text/plain": [
              "   Age  Patient's Years  N_positive_ax  survival_status\n",
              "0   30               64              1                1\n",
              "1   30               62              3                1\n",
              "2   30               65              0                1\n",
              "3   31               59              2                1\n",
              "4   31               65              4                1"
            ]
          },
          "metadata": {
            "tags": []
          },
          "execution_count": 54
        }
      ]
    },
    {
      "cell_type": "code",
      "metadata": {
        "colab": {
          "base_uri": "https://localhost:8080/",
          "height": 300
        },
        "id": "xT6Dsla3wnZY",
        "outputId": "2b429eee-bbbe-45ca-9137-567ae4a3a4d1"
      },
      "source": [
        "dataset.describe()\n"
      ],
      "execution_count": null,
      "outputs": [
        {
          "output_type": "execute_result",
          "data": {
            "text/html": [
              "<div>\n",
              "<style scoped>\n",
              "    .dataframe tbody tr th:only-of-type {\n",
              "        vertical-align: middle;\n",
              "    }\n",
              "\n",
              "    .dataframe tbody tr th {\n",
              "        vertical-align: top;\n",
              "    }\n",
              "\n",
              "    .dataframe thead th {\n",
              "        text-align: right;\n",
              "    }\n",
              "</style>\n",
              "<table border=\"1\" class=\"dataframe\">\n",
              "  <thead>\n",
              "    <tr style=\"text-align: right;\">\n",
              "      <th></th>\n",
              "      <th>Age</th>\n",
              "      <th>Year operation</th>\n",
              "      <th>Axillary nodes detected</th>\n",
              "      <th>Survival status</th>\n",
              "    </tr>\n",
              "  </thead>\n",
              "  <tbody>\n",
              "    <tr>\n",
              "      <th>count</th>\n",
              "      <td>306.000000</td>\n",
              "      <td>306.000000</td>\n",
              "      <td>306.000000</td>\n",
              "      <td>306.000000</td>\n",
              "    </tr>\n",
              "    <tr>\n",
              "      <th>mean</th>\n",
              "      <td>52.457516</td>\n",
              "      <td>62.852941</td>\n",
              "      <td>4.026144</td>\n",
              "      <td>1.264706</td>\n",
              "    </tr>\n",
              "    <tr>\n",
              "      <th>std</th>\n",
              "      <td>10.803452</td>\n",
              "      <td>3.249405</td>\n",
              "      <td>7.189654</td>\n",
              "      <td>0.441899</td>\n",
              "    </tr>\n",
              "    <tr>\n",
              "      <th>min</th>\n",
              "      <td>30.000000</td>\n",
              "      <td>58.000000</td>\n",
              "      <td>0.000000</td>\n",
              "      <td>1.000000</td>\n",
              "    </tr>\n",
              "    <tr>\n",
              "      <th>25%</th>\n",
              "      <td>44.000000</td>\n",
              "      <td>60.000000</td>\n",
              "      <td>0.000000</td>\n",
              "      <td>1.000000</td>\n",
              "    </tr>\n",
              "    <tr>\n",
              "      <th>50%</th>\n",
              "      <td>52.000000</td>\n",
              "      <td>63.000000</td>\n",
              "      <td>1.000000</td>\n",
              "      <td>1.000000</td>\n",
              "    </tr>\n",
              "    <tr>\n",
              "      <th>75%</th>\n",
              "      <td>60.750000</td>\n",
              "      <td>65.750000</td>\n",
              "      <td>4.000000</td>\n",
              "      <td>2.000000</td>\n",
              "    </tr>\n",
              "    <tr>\n",
              "      <th>max</th>\n",
              "      <td>83.000000</td>\n",
              "      <td>69.000000</td>\n",
              "      <td>52.000000</td>\n",
              "      <td>2.000000</td>\n",
              "    </tr>\n",
              "  </tbody>\n",
              "</table>\n",
              "</div>"
            ],
            "text/plain": [
              "              Age  Year operation  Axillary nodes detected  Survival status\n",
              "count  306.000000      306.000000               306.000000       306.000000\n",
              "mean    52.457516       62.852941                 4.026144         1.264706\n",
              "std     10.803452        3.249405                 7.189654         0.441899\n",
              "min     30.000000       58.000000                 0.000000         1.000000\n",
              "25%     44.000000       60.000000                 0.000000         1.000000\n",
              "50%     52.000000       63.000000                 1.000000         1.000000\n",
              "75%     60.750000       65.750000                 4.000000         2.000000\n",
              "max     83.000000       69.000000                52.000000         2.000000"
            ]
          },
          "metadata": {
            "tags": []
          },
          "execution_count": 41
        }
      ]
    },
    {
      "cell_type": "code",
      "metadata": {
        "colab": {
          "base_uri": "https://localhost:8080/"
        },
        "id": "k3wlppoo5XQZ",
        "outputId": "f1b65f6f-9d16-46ae-a72c-2b0a865ac4bf"
      },
      "source": [
        "df['survival_status'].value_counts()"
      ],
      "execution_count": null,
      "outputs": [
        {
          "output_type": "execute_result",
          "data": {
            "text/plain": [
              "1    225\n",
              "2     81\n",
              "Name: survival_status, dtype: int64"
            ]
          },
          "metadata": {
            "tags": []
          },
          "execution_count": 55
        }
      ]
    },
    {
      "cell_type": "code",
      "metadata": {
        "id": "BeNKs7uN5aPc"
      },
      "source": [
        "X = df.drop(['survival_status'], axis=1)\n",
        "y = df['survival_status']\n",
        "\n",
        "from sklearn.model_selection import train_test_split\n",
        "\n",
        "X_train, X_test, y_train, y_test = train_test_split(X, y, test_size=0.25, random_state=21, stratify=y)"
      ],
      "execution_count": null,
      "outputs": []
    },
    {
      "cell_type": "code",
      "metadata": {
        "colab": {
          "base_uri": "https://localhost:8080/"
        },
        "id": "BQCrRB1a5j1L",
        "outputId": "6c9d8bc3-e3ed-4a71-9c4a-439e48051d06"
      },
      "source": [
        "from sklearn.linear_model import LogisticRegression\n",
        "from sklearn.model_selection import cross_val_score,cross_validate\n",
        "from sklearn.model_selection import GridSearchCV\n",
        "from sklearn.metrics import confusion_matrix, classification_report\n",
        "model_lr = LogisticRegression()\n",
        "cv_score = cross_val_score(model_lr, X,y, scoring='roc_auc', cv=5)\n",
        "cv_score.mean()"
      ],
      "execution_count": null,
      "outputs": [
        {
          "output_type": "execute_result",
          "data": {
            "text/plain": [
              "0.6942483660130719"
            ]
          },
          "metadata": {
            "tags": []
          },
          "execution_count": 59
        }
      ]
    },
    {
      "cell_type": "code",
      "metadata": {
        "id": "m3OZSCxP5l6t"
      },
      "source": [
        "model_lr.fit(X_train, y_train)\n",
        "y_pred = model_lr.predict(X_test)\n",
        "\n"
      ],
      "execution_count": null,
      "outputs": []
    },
    {
      "cell_type": "code",
      "metadata": {
        "colab": {
          "base_uri": "https://localhost:8080/"
        },
        "id": "vntAppt45ncY",
        "outputId": "90acd7a2-6edc-4c93-adc0-6c942165d051"
      },
      "source": [
        "confusion_matrix(y_test, y_pred, labels=[1,2])"
      ],
      "execution_count": null,
      "outputs": [
        {
          "output_type": "execute_result",
          "data": {
            "text/plain": [
              "array([[52,  5],\n",
              "       [17,  3]])"
            ]
          },
          "metadata": {
            "tags": []
          },
          "execution_count": 61
        }
      ]
    },
    {
      "cell_type": "code",
      "metadata": {
        "colab": {
          "base_uri": "https://localhost:8080/"
        },
        "id": "TjUKUhjZ5pT9",
        "outputId": "4eafadd6-a1b3-48a9-b6ac-e3b147eebc93"
      },
      "source": [
        "print(classification_report(y_test, y_pred))"
      ],
      "execution_count": null,
      "outputs": [
        {
          "output_type": "stream",
          "text": [
            "              precision    recall  f1-score   support\n",
            "\n",
            "           1       0.75      0.91      0.83        57\n",
            "           2       0.38      0.15      0.21        20\n",
            "\n",
            "    accuracy                           0.71        77\n",
            "   macro avg       0.56      0.53      0.52        77\n",
            "weighted avg       0.66      0.71      0.67        77\n",
            "\n"
          ],
          "name": "stdout"
        }
      ]
    },
    {
      "cell_type": "code",
      "metadata": {
        "id": "AvcXf4oT5rqd"
      },
      "source": [
        "TP = 52\n",
        "TN = 3\n",
        "FP = 17\n",
        "FN = 5"
      ],
      "execution_count": null,
      "outputs": []
    },
    {
      "cell_type": "code",
      "metadata": {
        "colab": {
          "base_uri": "https://localhost:8080/"
        },
        "id": "UU4wLauK5v-M",
        "outputId": "3f05e947-de1a-48c6-9bef-7137fad8fa1e"
      },
      "source": [
        "precision = TP/(TP+FP)\n",
        "precision"
      ],
      "execution_count": null,
      "outputs": [
        {
          "output_type": "execute_result",
          "data": {
            "text/plain": [
              "0.7536231884057971"
            ]
          },
          "metadata": {
            "tags": []
          },
          "execution_count": 64
        }
      ]
    },
    {
      "cell_type": "code",
      "metadata": {
        "colab": {
          "base_uri": "https://localhost:8080/"
        },
        "id": "j2D1QA8L5yIH",
        "outputId": "ac749d36-cad5-4549-c0ac-8e90d2c1e5e8"
      },
      "source": [
        "recall = TP/(TP+FN)\n",
        "recall"
      ],
      "execution_count": null,
      "outputs": [
        {
          "output_type": "execute_result",
          "data": {
            "text/plain": [
              "0.9122807017543859"
            ]
          },
          "metadata": {
            "tags": []
          },
          "execution_count": 65
        }
      ]
    },
    {
      "cell_type": "code",
      "metadata": {
        "id": "vJnaJYax5zH-"
      },
      "source": [
        "from sklearn.neighbors import KNeighborsClassifier\n",
        "from sklearn.model_selection import GridSearchCV\n",
        "model_knn =  KNeighborsClassifier()\n",
        "param_grid = {'n_neighbors':np.arange(5,50), 'weights':['distance','uniform']}\n",
        "gscv= GridSearchCV(model_knn,param_grid=param_grid, scoring='roc_auc', cv=5)\n",
        "\n",
        "\n"
      ],
      "execution_count": null,
      "outputs": []
    },
    {
      "cell_type": "code",
      "metadata": {
        "colab": {
          "base_uri": "https://localhost:8080/"
        },
        "id": "HVVqvDCO5_y6",
        "outputId": "35cc0974-aa36-4f28-a5bc-d01de930ea9c"
      },
      "source": [
        "gscv.fit(X,y)"
      ],
      "execution_count": null,
      "outputs": [
        {
          "output_type": "execute_result",
          "data": {
            "text/plain": [
              "GridSearchCV(cv=5, error_score=nan,\n",
              "             estimator=KNeighborsClassifier(algorithm='auto', leaf_size=30,\n",
              "                                            metric='minkowski',\n",
              "                                            metric_params=None, n_jobs=None,\n",
              "                                            n_neighbors=5, p=2,\n",
              "                                            weights='uniform'),\n",
              "             iid='deprecated', n_jobs=None,\n",
              "             param_grid={'n_neighbors': array([ 5,  6,  7,  8,  9, 10, 11, 12, 13, 14, 15, 16, 17, 18, 19, 20, 21,\n",
              "       22, 23, 24, 25, 26, 27, 28, 29, 30, 31, 32, 33, 34, 35, 36, 37, 38,\n",
              "       39, 40, 41, 42, 43, 44, 45, 46, 47, 48, 49]),\n",
              "                         'weights': ['distance', 'uniform']},\n",
              "             pre_dispatch='2*n_jobs', refit=True, return_train_score=False,\n",
              "             scoring='roc_auc', verbose=0)"
            ]
          },
          "metadata": {
            "tags": []
          },
          "execution_count": 67
        }
      ]
    },
    {
      "cell_type": "code",
      "metadata": {
        "colab": {
          "base_uri": "https://localhost:8080/"
        },
        "id": "aPJQOAuM6Crw",
        "outputId": "e252fc8c-a8fa-4f31-e3ce-281c96518916"
      },
      "source": [
        "gscv.best_params_"
      ],
      "execution_count": null,
      "outputs": [
        {
          "output_type": "execute_result",
          "data": {
            "text/plain": [
              "{'n_neighbors': 40, 'weights': 'uniform'}"
            ]
          },
          "metadata": {
            "tags": []
          },
          "execution_count": 68
        }
      ]
    },
    {
      "cell_type": "code",
      "metadata": {
        "colab": {
          "base_uri": "https://localhost:8080/"
        },
        "id": "8FDSGCVL6FqA",
        "outputId": "f89d3dde-f1ee-4e34-bba7-2a7d9bf8bb24"
      },
      "source": [
        "gscv.best_score_"
      ],
      "execution_count": null,
      "outputs": [
        {
          "output_type": "execute_result",
          "data": {
            "text/plain": [
              "0.7151062091503269"
            ]
          },
          "metadata": {
            "tags": []
          },
          "execution_count": 69
        }
      ]
    },
    {
      "cell_type": "code",
      "metadata": {
        "colab": {
          "base_uri": "https://localhost:8080/"
        },
        "id": "_-l5V39f6H6_",
        "outputId": "9432588c-c1f3-482e-cf65-489d6befc02c"
      },
      "source": [
        "gscv.predict_proba(X_test)"
      ],
      "execution_count": null,
      "outputs": [
        {
          "output_type": "execute_result",
          "data": {
            "text/plain": [
              "array([[0.725, 0.275],\n",
              "       [0.725, 0.275],\n",
              "       [0.65 , 0.35 ],\n",
              "       [0.5  , 0.5  ],\n",
              "       [0.7  , 0.3  ],\n",
              "       [0.825, 0.175],\n",
              "       [0.8  , 0.2  ],\n",
              "       [0.8  , 0.2  ],\n",
              "       [0.75 , 0.25 ],\n",
              "       [0.7  , 0.3  ],\n",
              "       [0.375, 0.625],\n",
              "       [0.875, 0.125],\n",
              "       [0.75 , 0.25 ],\n",
              "       [0.85 , 0.15 ],\n",
              "       [0.85 , 0.15 ],\n",
              "       [0.925, 0.075],\n",
              "       [0.8  , 0.2  ],\n",
              "       [0.75 , 0.25 ],\n",
              "       [0.775, 0.225],\n",
              "       [0.475, 0.525],\n",
              "       [0.875, 0.125],\n",
              "       [0.85 , 0.15 ],\n",
              "       [0.85 , 0.15 ],\n",
              "       [0.375, 0.625],\n",
              "       [0.875, 0.125],\n",
              "       [0.925, 0.075],\n",
              "       [0.85 , 0.15 ],\n",
              "       [0.875, 0.125],\n",
              "       [0.9  , 0.1  ],\n",
              "       [0.825, 0.175],\n",
              "       [0.9  , 0.1  ],\n",
              "       [0.425, 0.575],\n",
              "       [0.8  , 0.2  ],\n",
              "       [0.8  , 0.2  ],\n",
              "       [0.475, 0.525],\n",
              "       [0.8  , 0.2  ],\n",
              "       [0.85 , 0.15 ],\n",
              "       [0.8  , 0.2  ],\n",
              "       [0.875, 0.125],\n",
              "       [0.8  , 0.2  ],\n",
              "       [0.5  , 0.5  ],\n",
              "       [0.85 , 0.15 ],\n",
              "       [0.75 , 0.25 ],\n",
              "       [0.55 , 0.45 ],\n",
              "       [0.8  , 0.2  ],\n",
              "       [0.925, 0.075],\n",
              "       [0.8  , 0.2  ],\n",
              "       [0.9  , 0.1  ],\n",
              "       [0.875, 0.125],\n",
              "       [0.4  , 0.6  ],\n",
              "       [0.8  , 0.2  ],\n",
              "       [0.4  , 0.6  ],\n",
              "       [0.875, 0.125],\n",
              "       [0.775, 0.225],\n",
              "       [0.85 , 0.15 ],\n",
              "       [0.85 , 0.15 ],\n",
              "       [0.85 , 0.15 ],\n",
              "       [0.5  , 0.5  ],\n",
              "       [0.825, 0.175],\n",
              "       [0.375, 0.625],\n",
              "       [0.45 , 0.55 ],\n",
              "       [0.85 , 0.15 ],\n",
              "       [0.75 , 0.25 ],\n",
              "       [0.85 , 0.15 ],\n",
              "       [0.75 , 0.25 ],\n",
              "       [0.75 , 0.25 ],\n",
              "       [0.775, 0.225],\n",
              "       [0.75 , 0.25 ],\n",
              "       [0.65 , 0.35 ],\n",
              "       [0.925, 0.075],\n",
              "       [0.725, 0.275],\n",
              "       [0.875, 0.125],\n",
              "       [0.75 , 0.25 ],\n",
              "       [0.425, 0.575],\n",
              "       [0.75 , 0.25 ],\n",
              "       [0.85 , 0.15 ],\n",
              "       [0.4  , 0.6  ]])"
            ]
          },
          "metadata": {
            "tags": []
          },
          "execution_count": 70
        }
      ]
    },
    {
      "cell_type": "code",
      "metadata": {
        "colab": {
          "base_uri": "https://localhost:8080/"
        },
        "id": "_35RMG4L6ItA",
        "outputId": "ad1c3167-eed2-4db6-d30c-d06e12cb75da"
      },
      "source": [
        "gscv.classes_\n",
        "gscv.predict_proba(X_test)[:,1]"
      ],
      "execution_count": null,
      "outputs": [
        {
          "output_type": "execute_result",
          "data": {
            "text/plain": [
              "array([0.275, 0.275, 0.35 , 0.5  , 0.3  , 0.175, 0.2  , 0.2  , 0.25 ,\n",
              "       0.3  , 0.625, 0.125, 0.25 , 0.15 , 0.15 , 0.075, 0.2  , 0.25 ,\n",
              "       0.225, 0.525, 0.125, 0.15 , 0.15 , 0.625, 0.125, 0.075, 0.15 ,\n",
              "       0.125, 0.1  , 0.175, 0.1  , 0.575, 0.2  , 0.2  , 0.525, 0.2  ,\n",
              "       0.15 , 0.2  , 0.125, 0.2  , 0.5  , 0.15 , 0.25 , 0.45 , 0.2  ,\n",
              "       0.075, 0.2  , 0.1  , 0.125, 0.6  , 0.2  , 0.6  , 0.125, 0.225,\n",
              "       0.15 , 0.15 , 0.15 , 0.5  , 0.175, 0.625, 0.55 , 0.15 , 0.25 ,\n",
              "       0.15 , 0.25 , 0.25 , 0.225, 0.25 , 0.35 , 0.075, 0.275, 0.125,\n",
              "       0.25 , 0.575, 0.25 , 0.15 , 0.6  ])"
            ]
          },
          "metadata": {
            "tags": []
          },
          "execution_count": 71
        }
      ]
    },
    {
      "cell_type": "code",
      "metadata": {
        "colab": {
          "base_uri": "https://localhost:8080/"
        },
        "id": "QiL1JFR66K9H",
        "outputId": "df6a90d3-6bb6-466c-dce1-fd450d6714df"
      },
      "source": [
        "cv_score_1 = cross_validate(model_knn, X,y, scoring='roc_auc', cv=5, return_train_score=True)\n",
        "cv_score_2 = cross_val_score(model_knn, X,y, scoring='roc_auc')\n",
        "cv_score_1"
      ],
      "execution_count": null,
      "outputs": [
        {
          "output_type": "execute_result",
          "data": {
            "text/plain": [
              "{'fit_time': array([0.00178933, 0.00149298, 0.00140858, 0.00152278, 0.0014174 ]),\n",
              " 'score_time': array([0.00316191, 0.00225234, 0.0022471 , 0.00215507, 0.00214934]),\n",
              " 'test_score': array([0.72679739, 0.58263889, 0.69097222, 0.73055556, 0.50555556]),\n",
              " 'train_score': array([0.84878472, 0.87991453, 0.84192308, 0.84444444, 0.85923077])}"
            ]
          },
          "metadata": {
            "tags": []
          },
          "execution_count": 72
        }
      ]
    },
    {
      "cell_type": "code",
      "metadata": {
        "id": "LbRkia-36ODa"
      },
      "source": [
        "def knn_pred(k):\n",
        "  model = KNeighborsClassifier(n_neighbors=k)\n",
        "  score = cross_validate(model, X,y, cv=10, return_train_score=True)\n",
        "  train_score = score['train_score'].mean()\n",
        "  test_score = score['test_score'].mean()\n",
        "  return train_score, test_score"
      ],
      "execution_count": null,
      "outputs": []
    },
    {
      "cell_type": "code",
      "metadata": {
        "id": "KtENmPLz6O6C"
      },
      "source": [
        "train_scores = []\n",
        "test_scores = []\n",
        "\n",
        "for k in range(2,100):\n",
        "  train_score, test_score = knn_pred(k)\n",
        "  train_scores.append(train_score)\n",
        "  test_scores.append(test_score)"
      ],
      "execution_count": null,
      "outputs": []
    },
    {
      "cell_type": "code",
      "metadata": {
        "colab": {
          "base_uri": "https://localhost:8080/",
          "height": 497
        },
        "id": "m6YDSfbs6WNI",
        "outputId": "090a9980-e07d-4677-9459-c8f50ccb6edf"
      },
      "source": [
        "import matplotlib.pyplot as plt\n",
        "\n",
        "fig, ax = plt.subplots(figsize=(12,8))\n",
        "\n",
        "ax.plot(range(2,100), train_scores, marker='x', label='Train Score', color='g')\n",
        "ax.plot(range(2,100), test_scores, marker='o', label='Test Score', c='b')\n",
        "\n",
        "ax.set_xlabel('K')\n",
        "ax.set_ylabel('score')\n",
        "\n",
        "plt.legend()\n",
        "plt.show()"
      ],
      "execution_count": null,
      "outputs": [
        {
          "output_type": "display_data",
          "data": {
            "image/png": "[encoded data removed]",
            "text/plain": [
              "<Figure size 864x576 with 1 Axes>"
            ]
          },
          "metadata": {
            "tags": [],
            "needs_background": "light"
          }
        }
      ]
    },
    {
      "cell_type": "code",
      "metadata": {
        "colab": {
          "base_uri": "https://localhost:8080/"
        },
        "id": "Gmnbmhge6Xy8",
        "outputId": "87d773bc-451a-4a9a-cee1-2e7e691bb474"
      },
      "source": [
        "#decision tree\n",
        "from sklearn.tree import DecisionTreeClassifier\n",
        "from sklearn.model_selection import RandomizedSearchCV\n",
        "model_dt = DecisionTreeClassifier()\n",
        "param_grid = {'splitter':['best','random'], 'criterion':['gini','entropy']}\n",
        "rscv= RandomizedSearchCV(model_dt,param_distributions=param_grid,n_iter=100,scoring='roc_auc')\n",
        "\n",
        "\n"
      ],
      "execution_count": null,
      "outputs": [
        {
          "output_type": "stream",
          "text": [
            "/usr/local/lib/python3.7/dist-packages/sklearn/model_selection/_search.py:281: UserWarning: The total space of parameters 4 is smaller than n_iter=100. Running 4 iterations. For exhaustive searches, use GridSearchCV.\n",
            "  % (grid_size, self.n_iter, grid_size), UserWarning)\n"
          ],
          "name": "stderr"
        },
        {
          "output_type": "execute_result",
          "data": {
            "text/plain": [
              "RandomizedSearchCV(cv=None, error_score=nan,\n",
              "                   estimator=DecisionTreeClassifier(ccp_alpha=0.0,\n",
              "                                                    class_weight=None,\n",
              "                                                    criterion='gini',\n",
              "                                                    max_depth=None,\n",
              "                                                    max_features=None,\n",
              "                                                    max_leaf_nodes=None,\n",
              "                                                    min_impurity_decrease=0.0,\n",
              "                                                    min_impurity_split=None,\n",
              "                                                    min_samples_leaf=1,\n",
              "                                                    min_samples_split=2,\n",
              "                                                    min_weight_fraction_leaf=0.0,\n",
              "                                                    presort='deprecated',\n",
              "                                                    random_state=None,\n",
              "                                                    splitter='best'),\n",
              "                   iid='deprecated', n_iter=100, n_jobs=None,\n",
              "                   param_distributions={'criterion': ['gini', 'entropy'],\n",
              "                                        'splitter': ['best', 'random']},\n",
              "                   pre_dispatch='2*n_jobs', random_state=None, refit=True,\n",
              "                   return_train_score=False, scoring='roc_auc', verbose=0)"
            ]
          },
          "metadata": {
            "tags": []
          },
          "execution_count": 76
        }
      ]
    },
    {
      "cell_type": "code",
      "metadata": {
        "colab": {
          "base_uri": "https://localhost:8080/"
        },
        "id": "KCwiddSX6b_4",
        "outputId": "2e88966d-519a-41b6-ac5a-c3c2b6eb0ea9"
      },
      "source": [
        "rscv.fit(X,y)"
      ],
      "execution_count": null,
      "outputs": [
        {
          "output_type": "stream",
          "text": [
            "/usr/local/lib/python3.7/dist-packages/sklearn/model_selection/_search.py:281: UserWarning: The total space of parameters 4 is smaller than n_iter=100. Running 4 iterations. For exhaustive searches, use GridSearchCV.\n",
            "  % (grid_size, self.n_iter, grid_size), UserWarning)\n"
          ],
          "name": "stderr"
        },
        {
          "output_type": "execute_result",
          "data": {
            "text/plain": [
              "RandomizedSearchCV(cv=None, error_score=nan,\n",
              "                   estimator=DecisionTreeClassifier(ccp_alpha=0.0,\n",
              "                                                    class_weight=None,\n",
              "                                                    criterion='gini',\n",
              "                                                    max_depth=None,\n",
              "                                                    max_features=None,\n",
              "                                                    max_leaf_nodes=None,\n",
              "                                                    min_impurity_decrease=0.0,\n",
              "                                                    min_impurity_split=None,\n",
              "                                                    min_samples_leaf=1,\n",
              "                                                    min_samples_split=2,\n",
              "                                                    min_weight_fraction_leaf=0.0,\n",
              "                                                    presort='deprecated',\n",
              "                                                    random_state=None,\n",
              "                                                    splitter='best'),\n",
              "                   iid='deprecated', n_iter=100, n_jobs=None,\n",
              "                   param_distributions={'criterion': ['gini', 'entropy'],\n",
              "                                        'splitter': ['best', 'random']},\n",
              "                   pre_dispatch='2*n_jobs', random_state=None, refit=True,\n",
              "                   return_train_score=False, scoring='roc_auc', verbose=0)"
            ]
          },
          "metadata": {
            "tags": []
          },
          "execution_count": 77
        }
      ]
    },
    {
      "cell_type": "code",
      "metadata": {
        "colab": {
          "base_uri": "https://localhost:8080/"
        },
        "id": "VrUVEUn46jfG",
        "outputId": "6c17b0ae-fb94-4a1a-a71d-113f5b99bf50"
      },
      "source": [
        "rscv.best_params_"
      ],
      "execution_count": null,
      "outputs": [
        {
          "output_type": "execute_result",
          "data": {
            "text/plain": [
              "{'criterion': 'gini', 'splitter': 'random'}"
            ]
          },
          "metadata": {
            "tags": []
          },
          "execution_count": 78
        }
      ]
    },
    {
      "cell_type": "code",
      "metadata": {
        "colab": {
          "base_uri": "https://localhost:8080/"
        },
        "id": "G9HtfdDl6lo4",
        "outputId": "25f399a9-a536-4207-e8d0-336cef98d40b"
      },
      "source": [
        "rscv.predict_proba(X_test)"
      ],
      "execution_count": null,
      "outputs": [
        {
          "output_type": "execute_result",
          "data": {
            "text/plain": [
              "array([[0. , 1. ],\n",
              "       [1. , 0. ],\n",
              "       [1. , 0. ],\n",
              "       [0. , 1. ],\n",
              "       [0.5, 0.5],\n",
              "       [0. , 1. ],\n",
              "       [0. , 1. ],\n",
              "       [1. , 0. ],\n",
              "       [0. , 1. ],\n",
              "       [0.5, 0.5],\n",
              "       [1. , 0. ],\n",
              "       [1. , 0. ],\n",
              "       [0. , 1. ],\n",
              "       [1. , 0. ],\n",
              "       [0.5, 0.5],\n",
              "       [1. , 0. ],\n",
              "       [1. , 0. ],\n",
              "       [1. , 0. ],\n",
              "       [0.5, 0.5],\n",
              "       [1. , 0. ],\n",
              "       [1. , 0. ],\n",
              "       [0.5, 0.5],\n",
              "       [1. , 0. ],\n",
              "       [1. , 0. ],\n",
              "       [1. , 0. ],\n",
              "       [0. , 1. ],\n",
              "       [1. , 0. ],\n",
              "       [1. , 0. ],\n",
              "       [1. , 0. ],\n",
              "       [1. , 0. ],\n",
              "       [1. , 0. ],\n",
              "       [1. , 0. ],\n",
              "       [1. , 0. ],\n",
              "       [1. , 0. ],\n",
              "       [1. , 0. ],\n",
              "       [1. , 0. ],\n",
              "       [1. , 0. ],\n",
              "       [1. , 0. ],\n",
              "       [1. , 0. ],\n",
              "       [1. , 0. ],\n",
              "       [0. , 1. ],\n",
              "       [1. , 0. ],\n",
              "       [1. , 0. ],\n",
              "       [1. , 0. ],\n",
              "       [1. , 0. ],\n",
              "       [1. , 0. ],\n",
              "       [1. , 0. ],\n",
              "       [1. , 0. ],\n",
              "       [1. , 0. ],\n",
              "       [1. , 0. ],\n",
              "       [0. , 1. ],\n",
              "       [0. , 1. ],\n",
              "       [1. , 0. ],\n",
              "       [1. , 0. ],\n",
              "       [1. , 0. ],\n",
              "       [1. , 0. ],\n",
              "       [1. , 0. ],\n",
              "       [0. , 1. ],\n",
              "       [1. , 0. ],\n",
              "       [0. , 1. ],\n",
              "       [0. , 1. ],\n",
              "       [1. , 0. ],\n",
              "       [1. , 0. ],\n",
              "       [1. , 0. ],\n",
              "       [1. , 0. ],\n",
              "       [1. , 0. ],\n",
              "       [1. , 0. ],\n",
              "       [1. , 0. ],\n",
              "       [1. , 0. ],\n",
              "       [1. , 0. ],\n",
              "       [0. , 1. ],\n",
              "       [1. , 0. ],\n",
              "       [0.5, 0.5],\n",
              "       [0. , 1. ],\n",
              "       [1. , 0. ],\n",
              "       [1. , 0. ],\n",
              "       [0. , 1. ]])"
            ]
          },
          "metadata": {
            "tags": []
          },
          "execution_count": 79
        }
      ]
    },
    {
      "cell_type": "code",
      "metadata": {
        "colab": {
          "base_uri": "https://localhost:8080/"
        },
        "id": "YZFlJOCH6qqC",
        "outputId": "7aa4cc41-657b-4cc9-9042-8f8fa003279f"
      },
      "source": [
        "rscv.classes_\n",
        "rscv.predict_proba(X_test)[:,1]"
      ],
      "execution_count": null,
      "outputs": [
        {
          "output_type": "execute_result",
          "data": {
            "text/plain": [
              "array([1. , 0. , 0. , 1. , 0.5, 1. , 1. , 0. , 1. , 0.5, 0. , 0. , 1. ,\n",
              "       0. , 0.5, 0. , 0. , 0. , 0.5, 0. , 0. , 0.5, 0. , 0. , 0. , 1. ,\n",
              "       0. , 0. , 0. , 0. , 0. , 0. , 0. , 0. , 0. , 0. , 0. , 0. , 0. ,\n",
              "       0. , 1. , 0. , 0. , 0. , 0. , 0. , 0. , 0. , 0. , 0. , 1. , 1. ,\n",
              "       0. , 0. , 0. , 0. , 0. , 1. , 0. , 1. , 1. , 0. , 0. , 0. , 0. ,\n",
              "       0. , 0. , 0. , 0. , 0. , 1. , 0. , 0.5, 1. , 0. , 0. , 1. ])"
            ]
          },
          "metadata": {
            "tags": []
          },
          "execution_count": 80
        }
      ]
    },
    {
      "cell_type": "code",
      "metadata": {
        "colab": {
          "base_uri": "https://localhost:8080/"
        },
        "id": "xArgCQTz6smX",
        "outputId": "e9c57de1-dfaf-4978-b95f-b4ca023efa4e"
      },
      "source": [
        "cv_score_1_ = cross_validate(model_dt, X,y, scoring='roc_auc', cv=5, return_train_score=True)\n",
        "cv_score_2_ = cross_val_score(model_dt, X,y, scoring='roc_auc')\n",
        "cv_score_1_"
      ],
      "execution_count": null,
      "outputs": [
        {
          "output_type": "execute_result",
          "data": {
            "text/plain": [
              "{'fit_time': array([0.00402331, 0.00182247, 0.00181937, 0.0017128 , 0.00162721]),\n",
              " 'score_time': array([0.00367284, 0.00169897, 0.00174212, 0.00159311, 0.00163698]),\n",
              " 'test_score': array([0.53529412, 0.37430556, 0.56111111, 0.47361111, 0.55      ]),\n",
              " 'train_score': array([0.99891493, 0.99931624, 0.99893162, 0.99893162, 0.99931624])}"
            ]
          },
          "metadata": {
            "tags": []
          },
          "execution_count": 81
        }
      ]
    },
    {
      "cell_type": "code",
      "metadata": {
        "id": "YSguW00x6tNg"
      },
      "source": [
        ""
      ],
      "execution_count": null,
      "outputs": []
    }
  ]
}